{
 "cells": [
  {
   "cell_type": "code",
   "execution_count": 1,
   "id": "b4fea928",
   "metadata": {},
   "outputs": [],
   "source": [
    "# Copyright (c) 2024 Microsoft Corporation.\n",
    "# Licensed under the MIT License."
   ]
  },
  {
   "cell_type": "code",
   "execution_count": 43,
   "id": "ad7ef258",
   "metadata": {},
   "outputs": [],
   "source": [
    "base_documents_df = pd.read_parquet(\n",
    "    f\"{GRAPHRAG_FOLDER}/create_base_documents.parquet\"\n",
    ")\n",
    "document_id2source = dict(zip(base_documents_df[\"id\"], base_documents_df[\"source\"]))"
   ]
  },
  {
   "cell_type": "code",
   "execution_count": 44,
   "id": "cb6e51ca",
   "metadata": {},
   "outputs": [],
   "source": [
    "base_texts_df = pd.read_parquet(\n",
    "    f\"{GRAPHRAG_FOLDER}/create_base_text_units.parquet\"\n",
    ")\n",
    "chunk_id_to_document_ids = dict(zip(base_texts_df[\"id\"], base_texts_df[\"document_ids\"]))"
   ]
  },
  {
   "cell_type": "code",
   "execution_count": 48,
   "id": "9d3b2b13",
   "metadata": {},
   "outputs": [
    {
     "data": {
      "text/plain": [
       "'3b0ffec5-b1b9-4f7f-b77f-6be9224a75eb_1'"
      ]
     },
     "execution_count": 48,
     "metadata": {},
     "output_type": "execute_result"
    }
   ],
   "source": [
    "chunk_id = \"23afb11229f218353d4be66e9a255f5c\"\n",
    "document_id2source[chunk_id_to_document_ids[chunk_id][0]]"
   ]
  },
  {
   "cell_type": "code",
   "execution_count": 51,
   "id": "54690142",
   "metadata": {},
   "outputs": [
    {
     "data": {
      "text/plain": [
       "'However, tensions have been rising between Zynara Prime and the smaller but fiercely\\nindependent planet Drakalon, ruled by Governor Iska Torvath.'"
      ]
     },
     "execution_count": 51,
     "metadata": {},
     "output_type": "execute_result"
    }
   ],
   "source": [
    "text_df[text_df.id==\"23afb11229f218353d4be66e9a255f5c\"].values[0][1]"
   ]
  },
  {
   "cell_type": "code",
   "execution_count": 28,
   "id": "5d6ea56e",
   "metadata": {},
   "outputs": [
    {
     "data": {
      "text/html": [
       "<div>\n",
       "<style scoped>\n",
       "    .dataframe tbody tr th:only-of-type {\n",
       "        vertical-align: middle;\n",
       "    }\n",
       "\n",
       "    .dataframe tbody tr th {\n",
       "        vertical-align: top;\n",
       "    }\n",
       "\n",
       "    .dataframe thead th {\n",
       "        text-align: right;\n",
       "    }\n",
       "</style>\n",
       "<table border=\"1\" class=\"dataframe\">\n",
       "  <thead>\n",
       "    <tr style=\"text-align: right;\">\n",
       "      <th></th>\n",
       "      <th>community</th>\n",
       "      <th>full_content</th>\n",
       "      <th>level</th>\n",
       "      <th>rank</th>\n",
       "      <th>title</th>\n",
       "      <th>rank_explanation</th>\n",
       "      <th>summary</th>\n",
       "      <th>findings</th>\n",
       "      <th>full_content_json</th>\n",
       "      <th>id</th>\n",
       "    </tr>\n",
       "  </thead>\n",
       "  <tbody>\n",
       "    <tr>\n",
       "      <th>0</th>\n",
       "      <td>10</td>\n",
       "      <td># The Alliance Community\\n\\nThe Alliance commu...</td>\n",
       "      <td>1</td>\n",
       "      <td>8.0</td>\n",
       "      <td>The Alliance Community</td>\n",
       "      <td>The severity rating is high due to the entity'...</td>\n",
       "      <td>The Alliance community consists of member coun...</td>\n",
       "      <td>[{'explanation': 'This is supported by data fr...</td>\n",
       "      <td>{\\n    \"title\": \"The Alliance Community\",\\n   ...</td>\n",
       "      <td>0e5f0f79-7f1f-4331-b1d4-e59380282ad2</td>\n",
       "    </tr>\n",
       "    <tr>\n",
       "      <th>1</th>\n",
       "      <td>11</td>\n",
       "      <td># Zynara Community\\n\\nThe Zynara community is ...</td>\n",
       "      <td>1</td>\n",
       "      <td>6.0</td>\n",
       "      <td>Zynara Community</td>\n",
       "      <td>The community has a moderate impact severity r...</td>\n",
       "      <td>The Zynara community is centered around Chance...</td>\n",
       "      <td>[{'explanation': 'As Chancellor of Zynara, Sel...</td>\n",
       "      <td>{\\n    \"title\": \"Zynara Community\",\\n    \"summ...</td>\n",
       "      <td>7788c5b1-0515-4159-a47f-6d28ee28c392</td>\n",
       "    </tr>\n",
       "    <tr>\n",
       "      <th>2</th>\n",
       "      <td>12</td>\n",
       "      <td># Zynara Prime Alliance Community\\n\\nThe Zynar...</td>\n",
       "      <td>1</td>\n",
       "      <td>8.0</td>\n",
       "      <td>Zynara Prime Alliance Community</td>\n",
       "      <td>High impact due to the significant tensions be...</td>\n",
       "      <td>The Zynara Prime Alliance community consists o...</td>\n",
       "      <td>[{'explanation': 'The relationship between Dra...</td>\n",
       "      <td>{\\n    \"title\": \"Zynara Prime Alliance Communi...</td>\n",
       "      <td>d6fa1abe-6af9-40c2-969b-b2ed60755046</td>\n",
       "    </tr>\n",
       "    <tr>\n",
       "      <th>3</th>\n",
       "      <td>13</td>\n",
       "      <td># COALITION Community\\n\\nThe COALITION communi...</td>\n",
       "      <td>1</td>\n",
       "      <td>8.0</td>\n",
       "      <td>COALITION Community</td>\n",
       "      <td>The COALITION community has a moderate impact ...</td>\n",
       "      <td>The COALITION community is a collective union ...</td>\n",
       "      <td>[{'explanation': 'According to data [Data: Ent...</td>\n",
       "      <td>{\\n    \"title\": \"COALITION Community\",\\n    \"s...</td>\n",
       "      <td>04fa7c15-6609-4553-8f4b-1cc0cd85e022</td>\n",
       "    </tr>\n",
       "    <tr>\n",
       "      <th>4</th>\n",
       "      <td>6</td>\n",
       "      <td># Agentic-Systems Community\\n\\nThe Agentic-Sys...</td>\n",
       "      <td>1</td>\n",
       "      <td>8.0</td>\n",
       "      <td>Agentic-Systems Community</td>\n",
       "      <td>The community's reliance on technology and nee...</td>\n",
       "      <td>The Agentic-Systems community consists of a re...</td>\n",
       "      <td>[{'explanation': 'This is supported by data [D...</td>\n",
       "      <td>{\\n    \"title\": \"Agentic-Systems Community\",\\n...</td>\n",
       "      <td>c2eedc74-745e-474f-aa0d-9db47db4140b</td>\n",
       "    </tr>\n",
       "  </tbody>\n",
       "</table>\n",
       "</div>"
      ],
      "text/plain": [
       "  community                                       full_content  level  rank  \\\n",
       "0        10  # The Alliance Community\\n\\nThe Alliance commu...      1   8.0   \n",
       "1        11  # Zynara Community\\n\\nThe Zynara community is ...      1   6.0   \n",
       "2        12  # Zynara Prime Alliance Community\\n\\nThe Zynar...      1   8.0   \n",
       "3        13  # COALITION Community\\n\\nThe COALITION communi...      1   8.0   \n",
       "4         6  # Agentic-Systems Community\\n\\nThe Agentic-Sys...      1   8.0   \n",
       "\n",
       "                             title  \\\n",
       "0           The Alliance Community   \n",
       "1                 Zynara Community   \n",
       "2  Zynara Prime Alliance Community   \n",
       "3              COALITION Community   \n",
       "4        Agentic-Systems Community   \n",
       "\n",
       "                                    rank_explanation  \\\n",
       "0  The severity rating is high due to the entity'...   \n",
       "1  The community has a moderate impact severity r...   \n",
       "2  High impact due to the significant tensions be...   \n",
       "3  The COALITION community has a moderate impact ...   \n",
       "4  The community's reliance on technology and nee...   \n",
       "\n",
       "                                             summary  \\\n",
       "0  The Alliance community consists of member coun...   \n",
       "1  The Zynara community is centered around Chance...   \n",
       "2  The Zynara Prime Alliance community consists o...   \n",
       "3  The COALITION community is a collective union ...   \n",
       "4  The Agentic-Systems community consists of a re...   \n",
       "\n",
       "                                            findings  \\\n",
       "0  [{'explanation': 'This is supported by data fr...   \n",
       "1  [{'explanation': 'As Chancellor of Zynara, Sel...   \n",
       "2  [{'explanation': 'The relationship between Dra...   \n",
       "3  [{'explanation': 'According to data [Data: Ent...   \n",
       "4  [{'explanation': 'This is supported by data [D...   \n",
       "\n",
       "                                   full_content_json  \\\n",
       "0  {\\n    \"title\": \"The Alliance Community\",\\n   ...   \n",
       "1  {\\n    \"title\": \"Zynara Community\",\\n    \"summ...   \n",
       "2  {\\n    \"title\": \"Zynara Prime Alliance Communi...   \n",
       "3  {\\n    \"title\": \"COALITION Community\",\\n    \"s...   \n",
       "4  {\\n    \"title\": \"Agentic-Systems Community\",\\n...   \n",
       "\n",
       "                                     id  \n",
       "0  0e5f0f79-7f1f-4331-b1d4-e59380282ad2  \n",
       "1  7788c5b1-0515-4159-a47f-6d28ee28c392  \n",
       "2  d6fa1abe-6af9-40c2-969b-b2ed60755046  \n",
       "3  04fa7c15-6609-4553-8f4b-1cc0cd85e022  \n",
       "4  c2eedc74-745e-474f-aa0d-9db47db4140b  "
      ]
     },
     "execution_count": 28,
     "metadata": {},
     "output_type": "execute_result"
    }
   ],
   "source": [
    "final_community_reports_df = pd.read_parquet(\n",
    "    f\"{GRAPHRAG_FOLDER}/create_final_community_reports.parquet\",\n",
    ")\n",
    "\n",
    "final_community_reports_df.head()"
   ]
  },
  {
   "cell_type": "code",
   "execution_count": 47,
   "id": "d638b6d9",
   "metadata": {},
   "outputs": [
    {
     "data": {
      "text/plain": [
       "array(['10', '11', '12', '13', '6', '7', '8', '9', '0', '1', '2', '3',\n",
       "       '4', '5'], dtype=object)"
      ]
     },
     "execution_count": 47,
     "metadata": {},
     "output_type": "execute_result"
    }
   ],
   "source": [
    "final_community_reports_df.community.values"
   ]
  },
  {
   "cell_type": "code",
   "execution_count": 32,
   "id": "be214879",
   "metadata": {},
   "outputs": [
    {
     "data": {
      "text/plain": [
       "Index(['community', 'full_content', 'level', 'rank', 'title',\n",
       "       'rank_explanation', 'summary', 'findings', 'full_content_json', 'id'],\n",
       "      dtype='object')"
      ]
     },
     "execution_count": 32,
     "metadata": {},
     "output_type": "execute_result"
    }
   ],
   "source": [
    "final_community_reports_df.keys()"
   ]
  },
  {
   "cell_type": "code",
   "execution_count": 31,
   "id": "3eeab01e",
   "metadata": {},
   "outputs": [
    {
     "name": "stdout",
     "output_type": "stream",
     "text": [
      "-----------------------------------\n",
      "community\n",
      "10\n",
      "-----------------------------------\n",
      "full_content\n",
      "# The Alliance Community\n",
      "\n",
      "The Alliance community consists of member countries Kalinda and Zynara, with Prime serving as Chairperson. However, the entity conducting unauthorized mining operations has undermined the Alliance's authority.\n",
      "\n",
      "## The entity conducting unauthorized mining operations is undermining the Alliance\n",
      "\n",
      "This is supported by data from Relationships (54) and Entities (58). The entity, led by Mark Evans, has been conducting unauthorized mining operations in the Nebular Zone [Data: Relationships (52); Entities (88)]. This has undermined the Alliance's authority and stability. The entity's actions have also affected the Unified Trade Accord, which would impact the Alliance and its member countries [Data: Relationships (48)].\n",
      "\n",
      "## Prime serves as Chairperson of the Alliance\n",
      "\n",
      "This is supported by data from Relationships (49). Prime works with Jenny to maintain peace among systems [Data: Relationships (214)], and also has a close relationship with Selix Maron, who has visited Kalinda [Data: Relationships (212)].\n",
      "\n",
      "## The entity's unauthorized activities pose a significant threat to the Alliance\n",
      "\n",
      "This is supported by data from Entities (58) and Relationships (54). The entity's actions have undermined the Alliance's authority, and its stability is at risk. The Unified Trade Accord would also be affected [Data: Relationships (48)].\n",
      "\n",
      "## Mark Evans leads the entity conducting unauthorized mining operations\n",
      "\n",
      "This is supported by data from Entities (88). Mark Evans' leadership of the entity has been linked to the unauthorized mining operations in the Nebular Zone [Data: Relationships (52); Entities (58)].\n",
      "\n",
      "## The Alliance has member countries Kalinda and Zynara\n",
      "\n",
      "This is supported by data from Relationships (50, 51). Kalinda and Zynara are both part of the Alliance, with Prime serving as Chairperson [Data: Relationships (49)].\n",
      "\n",
      "## Prime works with Jenny to maintain peace among systems\n",
      "\n",
      "This is supported by data from Relationships (214). Prime's close relationship with Jenny has been linked to their joint efforts in maintaining peace among systems [Data: Entities (205)]\n",
      "-----------------------------------\n",
      "level\n",
      "1\n",
      "-----------------------------------\n",
      "rank\n",
      "8.0\n",
      "-----------------------------------\n",
      "title\n",
      "The Alliance Community\n",
      "-----------------------------------\n",
      "rank_explanation\n",
      "The severity rating is high due to the entity's unauthorized activities posing a significant threat to the Alliance's stability.\n",
      "-----------------------------------\n",
      "summary\n",
      "The Alliance community consists of member countries Kalinda and Zynara, with Prime serving as Chairperson. However, the entity conducting unauthorized mining operations has undermined the Alliance's authority.\n",
      "-----------------------------------\n",
      "findings\n",
      "[{'explanation': \"This is supported by data from Relationships (54) and Entities (58). The entity, led by Mark Evans, has been conducting unauthorized mining operations in the Nebular Zone [Data: Relationships (52); Entities (88)]. This has undermined the Alliance's authority and stability. The entity's actions have also affected the Unified Trade Accord, which would impact the Alliance and its member countries [Data: Relationships (48)].\", 'summary': 'The entity conducting unauthorized mining operations is undermining the Alliance'}\n",
      " {'explanation': 'This is supported by data from Relationships (49). Prime works with Jenny to maintain peace among systems [Data: Relationships (214)], and also has a close relationship with Selix Maron, who has visited Kalinda [Data: Relationships (212)].', 'summary': 'Prime serves as Chairperson of the Alliance'}\n",
      " {'explanation': \"This is supported by data from Entities (58) and Relationships (54). The entity's actions have undermined the Alliance's authority, and its stability is at risk. The Unified Trade Accord would also be affected [Data: Relationships (48)].\", 'summary': \"The entity's unauthorized activities pose a significant threat to the Alliance\"}\n",
      " {'explanation': \"This is supported by data from Entities (88). Mark Evans' leadership of the entity has been linked to the unauthorized mining operations in the Nebular Zone [Data: Relationships (52); Entities (58)].\", 'summary': 'Mark Evans leads the entity conducting unauthorized mining operations'}\n",
      " {'explanation': 'This is supported by data from Relationships (50, 51). Kalinda and Zynara are both part of the Alliance, with Prime serving as Chairperson [Data: Relationships (49)].', 'summary': 'The Alliance has member countries Kalinda and Zynara'}\n",
      " {'explanation': \"This is supported by data from Relationships (214). Prime's close relationship with Jenny has been linked to their joint efforts in maintaining peace among systems [Data: Entities (205)]\", 'summary': 'Prime works with Jenny to maintain peace among systems'}]\n",
      "-----------------------------------\n",
      "full_content_json\n",
      "{\n",
      "    \"title\": \"The Alliance Community\",\n",
      "    \"summary\": \"The Alliance community consists of member countries Kalinda and Zynara, with Prime serving as Chairperson. However, the entity conducting unauthorized mining operations has undermined the Alliance's authority.\",\n",
      "    \"rating\": 8.0,\n",
      "    \"rating_explanation\": \"The severity rating is high due to the entity's unauthorized activities posing a significant threat to the Alliance's stability.\",\n",
      "    \"findings\": [\n",
      "        {\n",
      "            \"summary\": \"The entity conducting unauthorized mining operations is undermining the Alliance\",\n",
      "            \"explanation\": \"This is supported by data from Relationships (54) and Entities (58). The entity, led by Mark Evans, has been conducting unauthorized mining operations in the Nebular Zone [Data: Relationships (52); Entities (88)]. This has undermined the Alliance's authority and stability. The entity's actions have also affected the Unified Trade Accord, which would impact the Alliance and its member countries [Data: Relationships (48)].\"\n",
      "        },\n",
      "        {\n",
      "            \"summary\": \"Prime serves as Chairperson of the Alliance\",\n",
      "            \"explanation\": \"This is supported by data from Relationships (49). Prime works with Jenny to maintain peace among systems [Data: Relationships (214)], and also has a close relationship with Selix Maron, who has visited Kalinda [Data: Relationships (212)].\"\n",
      "        },\n",
      "        {\n",
      "            \"summary\": \"The entity's unauthorized activities pose a significant threat to the Alliance\",\n",
      "            \"explanation\": \"This is supported by data from Entities (58) and Relationships (54). The entity's actions have undermined the Alliance's authority, and its stability is at risk. The Unified Trade Accord would also be affected [Data: Relationships (48)].\"\n",
      "        },\n",
      "        {\n",
      "            \"summary\": \"Mark Evans leads the entity conducting unauthorized mining operations\",\n",
      "            \"explanation\": \"This is supported by data from Entities (88). Mark Evans' leadership of the entity has been linked to the unauthorized mining operations in the Nebular Zone [Data: Relationships (52); Entities (58)].\"\n",
      "        },\n",
      "        {\n",
      "            \"summary\": \"The Alliance has member countries Kalinda and Zynara\",\n",
      "            \"explanation\": \"This is supported by data from Relationships (50, 51). Kalinda and Zynara are both part of the Alliance, with Prime serving as Chairperson [Data: Relationships (49)].\"\n",
      "        },\n",
      "        {\n",
      "            \"summary\": \"Prime works with Jenny to maintain peace among systems\",\n",
      "            \"explanation\": \"This is supported by data from Relationships (214). Prime's close relationship with Jenny has been linked to their joint efforts in maintaining peace among systems [Data: Entities (205)]\"\n",
      "        }\n",
      "    ]\n",
      "}\n",
      "-----------------------------------\n",
      "id\n",
      "0e5f0f79-7f1f-4331-b1d4-e59380282ad2\n"
     ]
    }
   ],
   "source": [
    "for key, value in final_community_reports_df.items():\n",
    "    print(\"-----------------------------------\")\n",
    "    print(key)\n",
    "    print(value.values[0])\n",
    "\n",
    "# Neo4j Import of GraphRAG Result Parquet files"
   ]
  },
  {
   "cell_type": "markdown",
   "id": "0c4bc9ba",
   "metadata": {},
   "source": [
    "# Neo4j Import of GraphRAG Result Parquet files\n",
    "\n",
    "This notebook imports the results of the GraphRAG indexing process into the Neo4j Graph database for further processing, analysis or visualization. \n",
    "\n",
    "You can also build your own GenAI applications using Neo4j and a number of RAG strategies with LangChain, LlamaIndex, Haystack, and many other frameworks.\n",
    "See: https://neo4j.com/labs/genai-ecosystem\n",
    "\n",
    "Here is what the end result looks like:\n",
    "\n",
    "![](https://dev.assets.neo4j.com/wp-content/uploads/graphrag-neo4j-visualization.png)"
   ]
  },
  {
   "cell_type": "markdown",
   "id": "3924e246",
   "metadata": {},
   "source": [
    "## How does it work?\n",
    "\n",
    "The notebook loads the parquet files from the `output` folder of your indexing process and loads them into Pandas dataframes.\n",
    "It then uses a batching approach to send a slice of the data into Neo4j to create nodes and relationships and add relevant properties. The id-arrays on most entities are turned into relationships. \n",
    "\n",
    "All operations use MERGE, so they are idempotent, and you can run the script multiple times.\n",
    "\n",
    "If you need to clean out the database, you can run the following statement\n",
    "\n",
    "```cypher\n",
    "MATCH (n)\n",
    "CALL { WITH n DETACH DELETE n } IN TRANSACTIONS OF 25000 ROWS;\n",
    "```"
   ]
  },
  {
   "cell_type": "code",
   "execution_count": 22,
   "id": "adca1803",
   "metadata": {},
   "outputs": [],
   "source": [
    "GRAPHRAG_FOLDER = \"/Users/luwi/Documents/Code/microsoft_graphrag_local/ragdirs/48c81e73-c15e-40c7-980a-09bc4846769f/output\""
   ]
  },
  {
   "cell_type": "markdown",
   "id": "7fb27b941602401d91542211134fc71a",
   "metadata": {},
   "source": [
    "### Depedendencies\n",
    "\n",
    "We only need Pandas and the neo4j Python driver with the rust extension for faster network transport."
   ]
  },
  {
   "cell_type": "code",
   "execution_count": 3,
   "id": "b57beec0",
   "metadata": {},
   "outputs": [
    {
     "name": "stdout",
     "output_type": "stream",
     "text": [
      "\n",
      "\u001b[1m[\u001b[0m\u001b[34;49mnotice\u001b[0m\u001b[1;39;49m]\u001b[0m\u001b[39;49m A new release of pip is available: \u001b[0m\u001b[31;49m24.1.2\u001b[0m\u001b[39;49m -> \u001b[0m\u001b[32;49m24.2\u001b[0m\n",
      "\u001b[1m[\u001b[0m\u001b[34;49mnotice\u001b[0m\u001b[1;39;49m]\u001b[0m\u001b[39;49m To update, run: \u001b[0m\u001b[32;49mpip install --upgrade pip\u001b[0m\n",
      "Note: you may need to restart the kernel to use updated packages.\n"
     ]
    }
   ],
   "source": [
    "%pip install --quiet pandas neo4j-rust-ext"
   ]
  },
  {
   "cell_type": "code",
   "execution_count": 23,
   "id": "3eeee95f-e4f2-4052-94fb-a5dc8ab542ae",
   "metadata": {},
   "outputs": [],
   "source": [
    "import time\n",
    "\n",
    "import pandas as pd\n",
    "from neo4j import GraphDatabase"
   ]
  },
  {
   "cell_type": "markdown",
   "id": "307dd2f4",
   "metadata": {},
   "source": [
    "## Neo4j Installation\n",
    "\n",
    "You can create a free instance of Neo4j [online](https://console.neo4j.io). You get a credentials file that you can use for the connection credentials. You can also get an instance in any of the cloud marketplaces.\n",
    "\n",
    "If you want to install Neo4j locally either use [Neo4j Desktop](https://neo4j.com/download) or \n",
    "the official Docker image: `docker run -e NEO4J_AUTH=neo4j/password -p 7687:7687 -p 7474:7474 neo4j` "
   ]
  },
  {
   "cell_type": "code",
   "execution_count": 5,
   "id": "b6c15443-4acb-4f91-88ea-4e08abaa4c29",
   "metadata": {},
   "outputs": [],
   "source": [
    "NEO4J_URI = \"neo4j://localhost\"  # or neo4j+s://xxxx.databases.neo4j.io\n",
    "NEO4J_USERNAME = \"neo4j\"\n",
    "NEO4J_PASSWORD = \"your_password\"  # your password\n",
    "NEO4J_DATABASE = \"neo4j\"\n",
    "\n",
    "# Create a Neo4j driver\n",
    "driver = GraphDatabase.driver(NEO4J_URI, auth=(NEO4J_USERNAME, NEO4J_PASSWORD))"
   ]
  },
  {
   "cell_type": "markdown",
   "id": "70f37ab6",
   "metadata": {},
   "source": [
    "## Batched Import\n",
    "\n",
    "The batched import function takes a Cypher insert statement (needs to use the variable `value` for the row) and a dataframe to import.\n",
    "It will send by default 1k rows at a time as query parameter to the database to be inserted."
   ]
  },
  {
   "cell_type": "code",
   "execution_count": 6,
   "id": "d787bf7b-ac9b-4bfb-b140-a50a3fd205c5",
   "metadata": {},
   "outputs": [],
   "source": [
    "def batched_import(statement, df, batch_size=1000):\n",
    "    \"\"\"\n",
    "    Import a dataframe into Neo4j using a batched approach.\n",
    "\n",
    "    Parameters: statement is the Cypher query to execute, df is the dataframe to import, and batch_size is the number of rows to import in each batch.\n",
    "    \"\"\"\n",
    "    total = len(df)\n",
    "    start_s = time.time()\n",
    "    for start in range(0, total, batch_size):\n",
    "        batch = df.iloc[start : min(start + batch_size, total)]\n",
    "        result = driver.execute_query(\n",
    "            \"UNWIND $rows AS value \" + statement,\n",
    "            rows=batch.to_dict(\"records\"),\n",
    "            database_=NEO4J_DATABASE,\n",
    "        )\n",
    "        print(result.summary.counters)\n",
    "    print(f\"{total} rows in {time.time() - start_s} s.\")\n",
    "    return total"
   ]
  },
  {
   "cell_type": "markdown",
   "id": "0fb45f42",
   "metadata": {},
   "source": [
    "## Indexes and Constraints\n",
    "\n",
    "Indexes in Neo4j are only used to find the starting points for graph queries, e.g. quickly finding two nodes to connect.\n",
    "Constraints exist to avoid duplicates, we create them mostly on id's of Entity types.\n",
    "\n",
    "We use some Types as markers with two underscores before and after to distinguish them from the actual entity types.\n",
    "\n",
    "The default relationship type here is `RELATED` but we could also infer a real relationship-type from the description or the types of the start and end-nodes.\n",
    "\n",
    "* `__Entity__`\n",
    "* `__Document__`\n",
    "* `__Chunk__`\n",
    "* `__Community__`\n",
    "* `__Covariate__`"
   ]
  },
  {
   "cell_type": "code",
   "execution_count": 7,
   "id": "ed7f212e-9148-424c-adc6-d81db9f8e5a5",
   "metadata": {},
   "outputs": [
    {
     "name": "stdout",
     "output_type": "stream",
     "text": [
      "\n",
      "create constraint chunk_id if not exists for (c:__Chunk__) require c.id is unique\n",
      "\n",
      "create constraint document_id if not exists for (d:__Document__) require d.id is unique\n",
      "\n",
      "create constraint entity_id if not exists for (c:__Community__) require c.community is unique\n",
      "\n",
      "create constraint entity_id if not exists for (e:__Entity__) require e.id is unique\n",
      "\n",
      "create constraint entity_title if not exists for (e:__Entity__) require e.name is unique\n",
      "\n",
      "create constraint entity_title if not exists for (e:__Covariate__) require e.title is unique\n",
      "\n",
      "create constraint related_id if not exists for ()-[rel:RELATED]->() require rel.id is unique\n"
     ]
    }
   ],
   "source": [
    "# create constraints, idempotent operation\n",
    "\n",
    "statements = \"\"\"\n",
    "create constraint chunk_id if not exists for (c:__Chunk__) require c.id is unique;\n",
    "create constraint document_id if not exists for (d:__Document__) require d.id is unique;\n",
    "create constraint entity_id if not exists for (c:__Community__) require c.community is unique;\n",
    "create constraint entity_id if not exists for (e:__Entity__) require e.id is unique;\n",
    "create constraint entity_title if not exists for (e:__Entity__) require e.name is unique;\n",
    "create constraint entity_title if not exists for (e:__Covariate__) require e.title is unique;\n",
    "create constraint related_id if not exists for ()-[rel:RELATED]->() require rel.id is unique;\n",
    "\"\"\".split(\";\")\n",
    "\n",
    "for statement in statements:\n",
    "    if len((statement or \"\").strip()) > 0:\n",
    "        print(statement)\n",
    "        driver.execute_query(statement)"
   ]
  },
  {
   "cell_type": "markdown",
   "id": "beea073b",
   "metadata": {},
   "source": [
    "## Import Process\n",
    "\n",
    "### Importing the Documents\n",
    "\n",
    "We're loading the parquet file for the documents and create nodes with their ids and add the title property.\n",
    "We don't need to store text_unit_ids as we can create the relationships and the text content is also contained in the chunks."
   ]
  },
  {
   "cell_type": "code",
   "execution_count": 8,
   "id": "22a92b93",
   "metadata": {},
   "outputs": [
    {
     "data": {
      "text/html": [
       "<div>\n",
       "<style scoped>\n",
       "    .dataframe tbody tr th:only-of-type {\n",
       "        vertical-align: middle;\n",
       "    }\n",
       "\n",
       "    .dataframe tbody tr th {\n",
       "        vertical-align: top;\n",
       "    }\n",
       "\n",
       "    .dataframe thead th {\n",
       "        text-align: right;\n",
       "    }\n",
       "</style>\n",
       "<table border=\"1\" class=\"dataframe\">\n",
       "  <thead>\n",
       "    <tr style=\"text-align: right;\">\n",
       "      <th></th>\n",
       "      <th>id</th>\n",
       "      <th>text_unit_ids</th>\n",
       "      <th>source</th>\n",
       "      <th>raw_content</th>\n",
       "      <th>timestamp</th>\n",
       "    </tr>\n",
       "  </thead>\n",
       "  <tbody>\n",
       "    <tr>\n",
       "      <th>0</th>\n",
       "      <td>d24a452426a5eb13a5794f6bf14734e0</td>\n",
       "      <td>[d571dbc746fecd52b0b77d9a2ddbe2f1]</td>\n",
       "      <td>336701d2-baeb-45e7-a2d1-ab7f3f7c77d3_1</td>\n",
       "      <td>Abstract\\nThe use of retrieval-augmented gener...</td>\n",
       "      <td>2022-12-17</td>\n",
       "    </tr>\n",
       "    <tr>\n",
       "      <th>1</th>\n",
       "      <td>cbf7452c8dde808317839dd1b8cea1cd</td>\n",
       "      <td>[c9b1bfb3487602ac09f6c3d6e46ed496]</td>\n",
       "      <td>336701d2-baeb-45e7-a2d1-ab7f3f7c77d3_1</td>\n",
       "      <td>enables large language models (LLMs) to answer...</td>\n",
       "      <td>2022-12-17</td>\n",
       "    </tr>\n",
       "    <tr>\n",
       "      <th>2</th>\n",
       "      <td>9ff2665a8730d3939531f4c34e928952</td>\n",
       "      <td>[5e6b186ad6c0797210dabd31b02eb514]</td>\n",
       "      <td>336701d2-baeb-45e7-a2d1-ab7f3f7c77d3_1</td>\n",
       "      <td>However, RAG fails on global questions directe...</td>\n",
       "      <td>2022-12-17</td>\n",
       "    </tr>\n",
       "    <tr>\n",
       "      <th>3</th>\n",
       "      <td>a1c0bc86a1e2bac481caa1d85faf4f13</td>\n",
       "      <td>[ef2b9372b039a598ee50f0122087b69f]</td>\n",
       "      <td>336701d2-baeb-45e7-a2d1-ab7f3f7c77d3_1</td>\n",
       "      <td>since this is inherently a query-\\nfocused sum...</td>\n",
       "      <td>2022-12-17</td>\n",
       "    </tr>\n",
       "    <tr>\n",
       "      <th>4</th>\n",
       "      <td>793804a42da37467efcceb3057f49d1f</td>\n",
       "      <td>[f51800199c32e7c85bf974c278111a9c]</td>\n",
       "      <td>336701d2-baeb-45e7-a2d1-ab7f3f7c77d3_1</td>\n",
       "      <td>Prior QFS methods,\\nmeanwhile, fail to scale t...</td>\n",
       "      <td>2022-12-17</td>\n",
       "    </tr>\n",
       "    <tr>\n",
       "      <th>...</th>\n",
       "      <td>...</td>\n",
       "      <td>...</td>\n",
       "      <td>...</td>\n",
       "      <td>...</td>\n",
       "      <td>...</td>\n",
       "    </tr>\n",
       "    <tr>\n",
       "      <th>65</th>\n",
       "      <td>0c6369dd2f8ba433d721aa6c78e20ea0</td>\n",
       "      <td>[5da9fe84e484ae64b8c0dba3895aaf40]</td>\n",
       "      <td>1f62d343-9221-48db-b365-83e1376494e0_1</td>\n",
       "      <td>by developing new techniques for\\nhealing and ...</td>\n",
       "      <td>2022-12-17</td>\n",
       "    </tr>\n",
       "    <tr>\n",
       "      <th>66</th>\n",
       "      <td>0e38c493febf637a633f32cef5a7431b</td>\n",
       "      <td>[c90c64681134f47580408873e5d6cbe0]</td>\n",
       "      <td>1f62d343-9221-48db-b365-83e1376494e0_1</td>\n",
       "      <td>This\\ninnovation has sparked fierce competitio...</td>\n",
       "      <td>2022-12-17</td>\n",
       "    </tr>\n",
       "    <tr>\n",
       "      <th>67</th>\n",
       "      <td>c40b95fdd2562cab858894cc1f6733e2</td>\n",
       "      <td>[e632f91242452dbb9076eaaaef8fd25f]</td>\n",
       "      <td>1f62d343-9221-48db-b365-83e1376494e0_1</td>\n",
       "      <td>Despite their rivalry, both guilds face a comm...</td>\n",
       "      <td>2022-12-17</td>\n",
       "    </tr>\n",
       "    <tr>\n",
       "      <th>68</th>\n",
       "      <td>7ce9d1e2760200a32d7ce84e95c16337</td>\n",
       "      <td>[35a6571f619a11c56998a3a519ce740e]</td>\n",
       "      <td>1f62d343-9221-48db-b365-83e1376494e0_1</td>\n",
       "      <td>a shadowy organization that seeks to control a...</td>\n",
       "      <td>2022-12-17</td>\n",
       "    </tr>\n",
       "    <tr>\n",
       "      <th>69</th>\n",
       "      <td>9d0a46c6842cf459fb0c1ef49aeeb54d</td>\n",
       "      <td>[192d6d2502f869cb663cc3b4d4877e02]</td>\n",
       "      <td>1f62d343-9221-48db-b365-83e1376494e0_1</td>\n",
       "      <td>the Cabal has been sabotaging key alchemical f...</td>\n",
       "      <td>2022-12-17</td>\n",
       "    </tr>\n",
       "  </tbody>\n",
       "</table>\n",
       "<p>70 rows × 5 columns</p>\n",
       "</div>"
      ],
      "text/plain": [
       "                                  id                       text_unit_ids  \\\n",
       "0   d24a452426a5eb13a5794f6bf14734e0  [d571dbc746fecd52b0b77d9a2ddbe2f1]   \n",
       "1   cbf7452c8dde808317839dd1b8cea1cd  [c9b1bfb3487602ac09f6c3d6e46ed496]   \n",
       "2   9ff2665a8730d3939531f4c34e928952  [5e6b186ad6c0797210dabd31b02eb514]   \n",
       "3   a1c0bc86a1e2bac481caa1d85faf4f13  [ef2b9372b039a598ee50f0122087b69f]   \n",
       "4   793804a42da37467efcceb3057f49d1f  [f51800199c32e7c85bf974c278111a9c]   \n",
       "..                               ...                                 ...   \n",
       "65  0c6369dd2f8ba433d721aa6c78e20ea0  [5da9fe84e484ae64b8c0dba3895aaf40]   \n",
       "66  0e38c493febf637a633f32cef5a7431b  [c90c64681134f47580408873e5d6cbe0]   \n",
       "67  c40b95fdd2562cab858894cc1f6733e2  [e632f91242452dbb9076eaaaef8fd25f]   \n",
       "68  7ce9d1e2760200a32d7ce84e95c16337  [35a6571f619a11c56998a3a519ce740e]   \n",
       "69  9d0a46c6842cf459fb0c1ef49aeeb54d  [192d6d2502f869cb663cc3b4d4877e02]   \n",
       "\n",
       "                                    source  \\\n",
       "0   336701d2-baeb-45e7-a2d1-ab7f3f7c77d3_1   \n",
       "1   336701d2-baeb-45e7-a2d1-ab7f3f7c77d3_1   \n",
       "2   336701d2-baeb-45e7-a2d1-ab7f3f7c77d3_1   \n",
       "3   336701d2-baeb-45e7-a2d1-ab7f3f7c77d3_1   \n",
       "4   336701d2-baeb-45e7-a2d1-ab7f3f7c77d3_1   \n",
       "..                                     ...   \n",
       "65  1f62d343-9221-48db-b365-83e1376494e0_1   \n",
       "66  1f62d343-9221-48db-b365-83e1376494e0_1   \n",
       "67  1f62d343-9221-48db-b365-83e1376494e0_1   \n",
       "68  1f62d343-9221-48db-b365-83e1376494e0_1   \n",
       "69  1f62d343-9221-48db-b365-83e1376494e0_1   \n",
       "\n",
       "                                          raw_content   timestamp  \n",
       "0   Abstract\\nThe use of retrieval-augmented gener...  2022-12-17  \n",
       "1   enables large language models (LLMs) to answer...  2022-12-17  \n",
       "2   However, RAG fails on global questions directe...  2022-12-17  \n",
       "3   since this is inherently a query-\\nfocused sum...  2022-12-17  \n",
       "4   Prior QFS methods,\\nmeanwhile, fail to scale t...  2022-12-17  \n",
       "..                                                ...         ...  \n",
       "65  by developing new techniques for\\nhealing and ...  2022-12-17  \n",
       "66  This\\ninnovation has sparked fierce competitio...  2022-12-17  \n",
       "67  Despite their rivalry, both guilds face a comm...  2022-12-17  \n",
       "68  a shadowy organization that seeks to control a...  2022-12-17  \n",
       "69  the Cabal has been sabotaging key alchemical f...  2022-12-17  \n",
       "\n",
       "[70 rows x 5 columns]"
      ]
     },
     "execution_count": 8,
     "metadata": {},
     "output_type": "execute_result"
    }
   ],
   "source": [
    "pd.read_parquet(\n",
    "    f\"{GRAPHRAG_FOLDER}/create_final_documents.parquet\")"
   ]
  },
  {
   "cell_type": "code",
   "execution_count": 9,
   "id": "1ba023e7",
   "metadata": {},
   "outputs": [
    {
     "data": {
      "text/html": [
       "<div>\n",
       "<style scoped>\n",
       "    .dataframe tbody tr th:only-of-type {\n",
       "        vertical-align: middle;\n",
       "    }\n",
       "\n",
       "    .dataframe tbody tr th {\n",
       "        vertical-align: top;\n",
       "    }\n",
       "\n",
       "    .dataframe thead th {\n",
       "        text-align: right;\n",
       "    }\n",
       "</style>\n",
       "<table border=\"1\" class=\"dataframe\">\n",
       "  <thead>\n",
       "    <tr style=\"text-align: right;\">\n",
       "      <th></th>\n",
       "      <th>id</th>\n",
       "      <th>raw_content</th>\n",
       "    </tr>\n",
       "  </thead>\n",
       "  <tbody>\n",
       "    <tr>\n",
       "      <th>0</th>\n",
       "      <td>d24a452426a5eb13a5794f6bf14734e0</td>\n",
       "      <td>Abstract\\nThe use of retrieval-augmented gener...</td>\n",
       "    </tr>\n",
       "    <tr>\n",
       "      <th>1</th>\n",
       "      <td>cbf7452c8dde808317839dd1b8cea1cd</td>\n",
       "      <td>enables large language models (LLMs) to answer...</td>\n",
       "    </tr>\n",
       "  </tbody>\n",
       "</table>\n",
       "</div>"
      ],
      "text/plain": [
       "                                 id  \\\n",
       "0  d24a452426a5eb13a5794f6bf14734e0   \n",
       "1  cbf7452c8dde808317839dd1b8cea1cd   \n",
       "\n",
       "                                         raw_content  \n",
       "0  Abstract\\nThe use of retrieval-augmented gener...  \n",
       "1  enables large language models (LLMs) to answer...  "
      ]
     },
     "execution_count": 9,
     "metadata": {},
     "output_type": "execute_result"
    }
   ],
   "source": [
    "doc_df = pd.read_parquet(\n",
    "    f\"{GRAPHRAG_FOLDER}/create_final_documents.parquet\", columns=[\"id\", \"raw_content\"]\n",
    ")\n",
    "doc_df.head(2)"
   ]
  },
  {
   "cell_type": "code",
   "execution_count": 10,
   "id": "96391c15",
   "metadata": {},
   "outputs": [
    {
     "name": "stdout",
     "output_type": "stream",
     "text": [
      "{'_contains_updates': True, 'properties_set': 70}\n",
      "70 rows in 5.115211009979248 s.\n"
     ]
    },
    {
     "data": {
      "text/plain": [
       "70"
      ]
     },
     "execution_count": 10,
     "metadata": {},
     "output_type": "execute_result"
    }
   ],
   "source": [
    "# Import documents\n",
    "statement = \"\"\"\n",
    "MERGE (d:__Document__ {id:value.id})\n",
    "SET d += value {.title}\n",
    "\"\"\"\n",
    "\n",
    "batched_import(statement, doc_df)"
   ]
  },
  {
   "cell_type": "markdown",
   "id": "f97bbadb",
   "metadata": {},
   "source": [
    "### Loading Text Units\n",
    "\n",
    "We load the text units, create a node per id and set the text and number of tokens.\n",
    "Then we connect them to the documents that we created before."
   ]
  },
  {
   "cell_type": "code",
   "execution_count": 11,
   "id": "0d825626",
   "metadata": {},
   "outputs": [
    {
     "data": {
      "text/html": [
       "<div>\n",
       "<style scoped>\n",
       "    .dataframe tbody tr th:only-of-type {\n",
       "        vertical-align: middle;\n",
       "    }\n",
       "\n",
       "    .dataframe tbody tr th {\n",
       "        vertical-align: top;\n",
       "    }\n",
       "\n",
       "    .dataframe thead th {\n",
       "        text-align: right;\n",
       "    }\n",
       "</style>\n",
       "<table border=\"1\" class=\"dataframe\">\n",
       "  <thead>\n",
       "    <tr style=\"text-align: right;\">\n",
       "      <th></th>\n",
       "      <th>id</th>\n",
       "      <th>text</th>\n",
       "      <th>n_tokens</th>\n",
       "      <th>document_ids</th>\n",
       "    </tr>\n",
       "  </thead>\n",
       "  <tbody>\n",
       "    <tr>\n",
       "      <th>0</th>\n",
       "      <td>23afb11229f218353d4be66e9a255f5c</td>\n",
       "      <td>However, tensions have been rising between Zyn...</td>\n",
       "      <td>33</td>\n",
       "      <td>[018cae205b1614f5217cc20006086b3c]</td>\n",
       "    </tr>\n",
       "    <tr>\n",
       "      <th>1</th>\n",
       "      <td>acf18ed79e09fd944d8f9ca0658f5dcc</td>\n",
       "      <td>HelixTech, founded by visionary inventor\\nKael...</td>\n",
       "      <td>35</td>\n",
       "      <td>[02ca3ba3024a9be23c221f28ec2171fe]</td>\n",
       "    </tr>\n",
       "  </tbody>\n",
       "</table>\n",
       "</div>"
      ],
      "text/plain": [
       "                                 id  \\\n",
       "0  23afb11229f218353d4be66e9a255f5c   \n",
       "1  acf18ed79e09fd944d8f9ca0658f5dcc   \n",
       "\n",
       "                                                text  n_tokens  \\\n",
       "0  However, tensions have been rising between Zyn...        33   \n",
       "1  HelixTech, founded by visionary inventor\\nKael...        35   \n",
       "\n",
       "                         document_ids  \n",
       "0  [018cae205b1614f5217cc20006086b3c]  \n",
       "1  [02ca3ba3024a9be23c221f28ec2171fe]  "
      ]
     },
     "execution_count": 11,
     "metadata": {},
     "output_type": "execute_result"
    }
   ],
   "source": [
    "text_df = pd.read_parquet(\n",
    "    f\"{GRAPHRAG_FOLDER}/create_final_text_units.parquet\",\n",
    "    columns=[\"id\", \"text\", \"n_tokens\", \"document_ids\"],\n",
    ")\n",
    "text_df.head(2)"
   ]
  },
  {
   "cell_type": "code",
   "execution_count": 12,
   "id": "ffd3d380-8710-46f5-b90a-04ed8482192c",
   "metadata": {},
   "outputs": [
    {
     "name": "stdout",
     "output_type": "stream",
     "text": [
      "{'_contains_updates': True, 'properties_set': 140}\n",
      "70 rows in 2.826556921005249 s.\n"
     ]
    },
    {
     "data": {
      "text/plain": [
       "70"
      ]
     },
     "execution_count": 12,
     "metadata": {},
     "output_type": "execute_result"
    }
   ],
   "source": [
    "statement = \"\"\"\n",
    "MERGE (c:__Chunk__ {id:value.id})\n",
    "SET c += value {.text, .n_tokens}\n",
    "WITH c, value\n",
    "UNWIND value.document_ids AS document\n",
    "MATCH (d:__Document__ {id:document})\n",
    "MERGE (c)-[:PART_OF]->(d)\n",
    "\"\"\"\n",
    "\n",
    "batched_import(statement, text_df)"
   ]
  },
  {
   "cell_type": "markdown",
   "id": "f01b2094",
   "metadata": {},
   "source": [
    "### Loading Nodes\n",
    "\n",
    "For the nodes we store id, name, description, embedding (if available), human readable id."
   ]
  },
  {
   "cell_type": "code",
   "execution_count": 13,
   "id": "2392f9e9",
   "metadata": {},
   "outputs": [
    {
     "data": {
      "text/html": [
       "<div>\n",
       "<style scoped>\n",
       "    .dataframe tbody tr th:only-of-type {\n",
       "        vertical-align: middle;\n",
       "    }\n",
       "\n",
       "    .dataframe tbody tr th {\n",
       "        vertical-align: top;\n",
       "    }\n",
       "\n",
       "    .dataframe thead th {\n",
       "        text-align: right;\n",
       "    }\n",
       "</style>\n",
       "<table border=\"1\" class=\"dataframe\">\n",
       "  <thead>\n",
       "    <tr style=\"text-align: right;\">\n",
       "      <th></th>\n",
       "      <th>name</th>\n",
       "      <th>type</th>\n",
       "      <th>description</th>\n",
       "      <th>human_readable_id</th>\n",
       "      <th>id</th>\n",
       "      <th>description_embedding</th>\n",
       "      <th>text_unit_ids</th>\n",
       "    </tr>\n",
       "  </thead>\n",
       "  <tbody>\n",
       "    <tr>\n",
       "      <th>0</th>\n",
       "      <td>DRAKALON</td>\n",
       "      <td>GEO</td>\n",
       "      <td>Here is a comprehensive summary of the data pr...</td>\n",
       "      <td>0</td>\n",
       "      <td>fa417853b7004df5a959a15080815455</td>\n",
       "      <td>[0.006349575222935646, 0.07673016767601923, -0...</td>\n",
       "      <td>[23afb11229f218353d4be66e9a255f5c, 825747b9333...</td>\n",
       "    </tr>\n",
       "    <tr>\n",
       "      <th>1</th>\n",
       "      <td>GOVERNOR ISKA TORVATH</td>\n",
       "      <td>PERSON</td>\n",
       "      <td>Governor of Drakalon, which has rising tension...</td>\n",
       "      <td>1</td>\n",
       "      <td>3435fc738c324b9bbdf2dca4c3c9b52f</td>\n",
       "      <td>[-0.004644934247939479, 0.07013827527304689, -...</td>\n",
       "      <td>[23afb11229f218353d4be66e9a255f5c]</td>\n",
       "    </tr>\n",
       "  </tbody>\n",
       "</table>\n",
       "</div>"
      ],
      "text/plain": [
       "                    name    type  \\\n",
       "0               DRAKALON     GEO   \n",
       "1  GOVERNOR ISKA TORVATH  PERSON   \n",
       "\n",
       "                                         description  human_readable_id  \\\n",
       "0  Here is a comprehensive summary of the data pr...                  0   \n",
       "1  Governor of Drakalon, which has rising tension...                  1   \n",
       "\n",
       "                                 id  \\\n",
       "0  fa417853b7004df5a959a15080815455   \n",
       "1  3435fc738c324b9bbdf2dca4c3c9b52f   \n",
       "\n",
       "                               description_embedding  \\\n",
       "0  [0.006349575222935646, 0.07673016767601923, -0...   \n",
       "1  [-0.004644934247939479, 0.07013827527304689, -...   \n",
       "\n",
       "                                       text_unit_ids  \n",
       "0  [23afb11229f218353d4be66e9a255f5c, 825747b9333...  \n",
       "1                 [23afb11229f218353d4be66e9a255f5c]  "
      ]
     },
     "execution_count": 13,
     "metadata": {},
     "output_type": "execute_result"
    }
   ],
   "source": [
    "entity_df = pd.read_parquet(\n",
    "    f\"{GRAPHRAG_FOLDER}/create_final_entities.parquet\",\n",
    "    columns=[\n",
    "        \"name\",\n",
    "        \"type\",\n",
    "        \"description\",\n",
    "        \"human_readable_id\",\n",
    "        \"id\",\n",
    "        \"description_embedding\",\n",
    "        \"text_unit_ids\",\n",
    "    ],\n",
    ")\n",
    "entity_df.head(2)"
   ]
  },
  {
   "cell_type": "code",
   "execution_count": 14,
   "id": "1d038114-0714-48ee-a48a-c421cd539661",
   "metadata": {},
   "outputs": [
    {
     "name": "stdout",
     "output_type": "stream",
     "text": [
      "{'_contains_updates': True, 'labels_added': 285, 'relationships_created': 343, 'nodes_created': 285, 'properties_set': 1140}\n",
      "285 rows in 11.774296045303345 s.\n"
     ]
    },
    {
     "data": {
      "text/plain": [
       "285"
      ]
     },
     "execution_count": 14,
     "metadata": {},
     "output_type": "execute_result"
    }
   ],
   "source": [
    "entity_statement = \"\"\"\n",
    "MERGE (e:__Entity__ {id:value.id})\n",
    "SET e += value {.human_readable_id, .description, name:replace(value.name,'\"','')}\n",
    "WITH e, value\n",
    "CALL db.create.setNodeVectorProperty(e, \"description_embedding\", value.description_embedding)\n",
    "CALL apoc.create.addLabels(e, case when coalesce(value.type,\"\") = \"\" then [] else [apoc.text.upperCamelCase(replace(value.type,'\"',''))] end) yield node\n",
    "UNWIND value.text_unit_ids AS text_unit\n",
    "MATCH (c:__Chunk__ {id:text_unit})\n",
    "MERGE (c)-[:HAS_ENTITY]->(e)\n",
    "\"\"\"\n",
    "\n",
    "batched_import(entity_statement, entity_df)"
   ]
  },
  {
   "cell_type": "markdown",
   "id": "018d4f87",
   "metadata": {},
   "source": [
    "### Import Relationships\n",
    "\n",
    "For the relationships we find the source and target node by name, using the base `__Entity__` type.\n",
    "After creating the `RELATED` relationships, we set the description as attribute."
   ]
  },
  {
   "cell_type": "code",
   "execution_count": 15,
   "id": "b347a047",
   "metadata": {},
   "outputs": [
    {
     "data": {
      "text/html": [
       "<div>\n",
       "<style scoped>\n",
       "    .dataframe tbody tr th:only-of-type {\n",
       "        vertical-align: middle;\n",
       "    }\n",
       "\n",
       "    .dataframe tbody tr th {\n",
       "        vertical-align: top;\n",
       "    }\n",
       "\n",
       "    .dataframe thead th {\n",
       "        text-align: right;\n",
       "    }\n",
       "</style>\n",
       "<table border=\"1\" class=\"dataframe\">\n",
       "  <thead>\n",
       "    <tr style=\"text-align: right;\">\n",
       "      <th></th>\n",
       "      <th>source</th>\n",
       "      <th>target</th>\n",
       "      <th>id</th>\n",
       "      <th>rank</th>\n",
       "      <th>weight</th>\n",
       "      <th>human_readable_id</th>\n",
       "      <th>description</th>\n",
       "      <th>text_unit_ids</th>\n",
       "    </tr>\n",
       "  </thead>\n",
       "  <tbody>\n",
       "    <tr>\n",
       "      <th>0</th>\n",
       "      <td>DRAKALON</td>\n",
       "      <td>ZYNARA PRIME</td>\n",
       "      <td>b03aeb0eb24a471da2e610dba9734de3</td>\n",
       "      <td>13</td>\n",
       "      <td>8.0</td>\n",
       "      <td>0</td>\n",
       "      <td>There are rising tensions between the two plan...</td>\n",
       "      <td>[23afb11229f218353d4be66e9a255f5c]</td>\n",
       "    </tr>\n",
       "    <tr>\n",
       "      <th>1</th>\n",
       "      <td>DRAKALON</td>\n",
       "      <td>GOVERNOR ISKA TORVATH</td>\n",
       "      <td>92f71ca6f93e41d688015077ea70ae0c</td>\n",
       "      <td>10</td>\n",
       "      <td>4.0</td>\n",
       "      <td>1</td>\n",
       "      <td>Governor Iska Torvath is the ruler of Drakalon...</td>\n",
       "      <td>[23afb11229f218353d4be66e9a255f5c]</td>\n",
       "    </tr>\n",
       "  </tbody>\n",
       "</table>\n",
       "</div>"
      ],
      "text/plain": [
       "     source                 target                                id  rank  \\\n",
       "0  DRAKALON           ZYNARA PRIME  b03aeb0eb24a471da2e610dba9734de3    13   \n",
       "1  DRAKALON  GOVERNOR ISKA TORVATH  92f71ca6f93e41d688015077ea70ae0c    10   \n",
       "\n",
       "   weight human_readable_id  \\\n",
       "0     8.0                 0   \n",
       "1     4.0                 1   \n",
       "\n",
       "                                         description  \\\n",
       "0  There are rising tensions between the two plan...   \n",
       "1  Governor Iska Torvath is the ruler of Drakalon...   \n",
       "\n",
       "                        text_unit_ids  \n",
       "0  [23afb11229f218353d4be66e9a255f5c]  \n",
       "1  [23afb11229f218353d4be66e9a255f5c]  "
      ]
     },
     "execution_count": 15,
     "metadata": {},
     "output_type": "execute_result"
    }
   ],
   "source": [
    "rel_df = pd.read_parquet(\n",
    "    f\"{GRAPHRAG_FOLDER}/create_final_relationships.parquet\",\n",
    "    columns=[\n",
    "        \"source\",\n",
    "        \"target\",\n",
    "        \"id\",\n",
    "        \"rank\",\n",
    "        \"weight\",\n",
    "        \"human_readable_id\",\n",
    "        \"description\",\n",
    "        \"text_unit_ids\",\n",
    "    ],\n",
    ")\n",
    "rel_df.head(2)"
   ]
  },
  {
   "cell_type": "markdown",
   "id": "d0b30c33",
   "metadata": {},
   "source": []
  },
  {
   "cell_type": "code",
   "execution_count": 52,
   "id": "bfcc8e90",
   "metadata": {},
   "outputs": [],
   "source": [
    "readable_id_2_text_unit_ids = dict(zip(rel_df[\"human_readable_id\"], rel_df[\"text_unit_ids\"]))\n"
   ]
  },
  {
   "cell_type": "code",
   "execution_count": 58,
   "id": "ae676ad6",
   "metadata": {},
   "outputs": [
    {
     "data": {
      "text/plain": [
       "'3b0ffec5-b1b9-4f7f-b77f-6be9224a75eb_1'"
      ]
     },
     "execution_count": 58,
     "metadata": {},
     "output_type": "execute_result"
    }
   ],
   "source": [
    "document_id2source[chunk_id_to_document_ids[readable_id_2_text_unit_ids[\"0\"][0]][0]]"
   ]
  },
  {
   "cell_type": "code",
   "execution_count": 16,
   "id": "27900c01-89e1-4dec-9d5c-c07317c68baf",
   "metadata": {},
   "outputs": [
    {
     "name": "stdout",
     "output_type": "stream",
     "text": [
      "{'_contains_updates': True, 'relationships_created': 252, 'properties_set': 1512}\n",
      "252 rows in 4.2740678787231445 s.\n"
     ]
    },
    {
     "data": {
      "text/plain": [
       "252"
      ]
     },
     "execution_count": 16,
     "metadata": {},
     "output_type": "execute_result"
    }
   ],
   "source": [
    "rel_statement = \"\"\"\n",
    "    MATCH (source:__Entity__ {name:replace(value.source,'\"','')})\n",
    "    MATCH (target:__Entity__ {name:replace(value.target,'\"','')})\n",
    "    // not necessary to merge on id as there is only one relationship per pair\n",
    "    MERGE (source)-[rel:RELATED {id: value.id}]->(target)\n",
    "    SET rel += value {.rank, .weight, .human_readable_id, .description, .text_unit_ids}\n",
    "    RETURN count(*) as createdRels\n",
    "\"\"\"\n",
    "\n",
    "batched_import(rel_statement, rel_df)"
   ]
  },
  {
   "cell_type": "markdown",
   "id": "e6365dd7",
   "metadata": {},
   "source": [
    "### Importing Communities\n",
    "\n",
    "For communities we import their id, title, level.\n",
    "We connect the `__Community__` nodes to the start and end nodes of the relationships they refer to.\n",
    "\n",
    "Connecting them to the chunks they orignate from is optional, as the entites are already connected to the chunks."
   ]
  },
  {
   "cell_type": "code",
   "execution_count": 17,
   "id": "c2fab66c",
   "metadata": {},
   "outputs": [
    {
     "data": {
      "text/html": [
       "<div>\n",
       "<style scoped>\n",
       "    .dataframe tbody tr th:only-of-type {\n",
       "        vertical-align: middle;\n",
       "    }\n",
       "\n",
       "    .dataframe tbody tr th {\n",
       "        vertical-align: top;\n",
       "    }\n",
       "\n",
       "    .dataframe thead th {\n",
       "        text-align: right;\n",
       "    }\n",
       "</style>\n",
       "<table border=\"1\" class=\"dataframe\">\n",
       "  <thead>\n",
       "    <tr style=\"text-align: right;\">\n",
       "      <th></th>\n",
       "      <th>id</th>\n",
       "      <th>level</th>\n",
       "      <th>title</th>\n",
       "      <th>text_unit_ids</th>\n",
       "      <th>relationship_ids</th>\n",
       "    </tr>\n",
       "  </thead>\n",
       "  <tbody>\n",
       "    <tr>\n",
       "      <th>0</th>\n",
       "      <td>4</td>\n",
       "      <td>0</td>\n",
       "      <td>Community 4</td>\n",
       "      <td>[23afb11229f218353d4be66e9a255f5c,825747b9333a...</td>\n",
       "      <td>[b03aeb0eb24a471da2e610dba9734de3, 92f71ca6f93...</td>\n",
       "    </tr>\n",
       "    <tr>\n",
       "      <th>1</th>\n",
       "      <td>3</td>\n",
       "      <td>0</td>\n",
       "      <td>Community 3</td>\n",
       "      <td>[46933b653da989ef0265dfc323f92c3d, 1714736066d...</td>\n",
       "      <td>[b6b2319d1c63481ca3a949d87528c23e, 91118a9d7c3...</td>\n",
       "    </tr>\n",
       "  </tbody>\n",
       "</table>\n",
       "</div>"
      ],
      "text/plain": [
       "  id  level        title                                      text_unit_ids  \\\n",
       "0  4      0  Community 4  [23afb11229f218353d4be66e9a255f5c,825747b9333a...   \n",
       "1  3      0  Community 3  [46933b653da989ef0265dfc323f92c3d, 1714736066d...   \n",
       "\n",
       "                                    relationship_ids  \n",
       "0  [b03aeb0eb24a471da2e610dba9734de3, 92f71ca6f93...  \n",
       "1  [b6b2319d1c63481ca3a949d87528c23e, 91118a9d7c3...  "
      ]
     },
     "execution_count": 17,
     "metadata": {},
     "output_type": "execute_result"
    }
   ],
   "source": [
    "community_df = pd.read_parquet(\n",
    "    f\"{GRAPHRAG_FOLDER}/create_final_communities.parquet\",\n",
    "    columns=[\"id\", \"level\", \"title\", \"text_unit_ids\", \"relationship_ids\"],\n",
    ")\n",
    "\n",
    "community_df.head(2)"
   ]
  },
  {
   "cell_type": "code",
   "execution_count": 18,
   "id": "1351f7e3",
   "metadata": {},
   "outputs": [
    {
     "name": "stdout",
     "output_type": "stream",
     "text": [
      "{'_contains_updates': True, 'labels_added': 14, 'relationships_created': 151, 'nodes_created': 14, 'properties_set': 42}\n",
      "14 rows in 11.583256006240845 s.\n"
     ]
    },
    {
     "data": {
      "text/plain": [
       "14"
      ]
     },
     "execution_count": 18,
     "metadata": {},
     "output_type": "execute_result"
    }
   ],
   "source": [
    "statement = \"\"\"\n",
    "MERGE (c:__Community__ {community:value.id})\n",
    "SET c += value {.level, .title}\n",
    "/*\n",
    "UNWIND value.text_unit_ids as text_unit_id\n",
    "MATCH (t:__Chunk__ {id:text_unit_id})\n",
    "MERGE (c)-[:HAS_CHUNK]->(t)\n",
    "WITH distinct c, value\n",
    "*/\n",
    "WITH *\n",
    "UNWIND value.relationship_ids as rel_id\n",
    "MATCH (start:__Entity__)-[:RELATED {id:rel_id}]->(end:__Entity__)\n",
    "MERGE (start)-[:IN_COMMUNITY]->(c)\n",
    "MERGE (end)-[:IN_COMMUNITY]->(c)\n",
    "RETURn count(distinct c) as createdCommunities\n",
    "\"\"\"\n",
    "\n",
    "batched_import(statement, community_df)"
   ]
  },
  {
   "cell_type": "markdown",
   "id": "dd9adf50",
   "metadata": {},
   "source": [
    "### Importing Community Reports\n",
    "\n",
    "Fo the community reports we create nodes for each communitiy set the id, community, level, title, summary, rank, and rank_explanation and connect them to the entities they are about.\n",
    "For the findings we create the findings in context of the communities."
   ]
  },
  {
   "cell_type": "code",
   "execution_count": 19,
   "id": "1be9e7a9-69ee-406b-bce5-95a9c41ecffe",
   "metadata": {},
   "outputs": [
    {
     "data": {
      "text/html": [
       "<div>\n",
       "<style scoped>\n",
       "    .dataframe tbody tr th:only-of-type {\n",
       "        vertical-align: middle;\n",
       "    }\n",
       "\n",
       "    .dataframe tbody tr th {\n",
       "        vertical-align: top;\n",
       "    }\n",
       "\n",
       "    .dataframe thead th {\n",
       "        text-align: right;\n",
       "    }\n",
       "</style>\n",
       "<table border=\"1\" class=\"dataframe\">\n",
       "  <thead>\n",
       "    <tr style=\"text-align: right;\">\n",
       "      <th></th>\n",
       "      <th>id</th>\n",
       "      <th>community</th>\n",
       "      <th>level</th>\n",
       "      <th>title</th>\n",
       "      <th>summary</th>\n",
       "      <th>findings</th>\n",
       "      <th>rank</th>\n",
       "      <th>rank_explanation</th>\n",
       "      <th>full_content</th>\n",
       "    </tr>\n",
       "  </thead>\n",
       "  <tbody>\n",
       "    <tr>\n",
       "      <th>0</th>\n",
       "      <td>0e5f0f79-7f1f-4331-b1d4-e59380282ad2</td>\n",
       "      <td>10</td>\n",
       "      <td>1</td>\n",
       "      <td>The Alliance Community</td>\n",
       "      <td>The Alliance community consists of member coun...</td>\n",
       "      <td>[{'explanation': 'This is supported by data fr...</td>\n",
       "      <td>8.0</td>\n",
       "      <td>The severity rating is high due to the entity'...</td>\n",
       "      <td># The Alliance Community\\n\\nThe Alliance commu...</td>\n",
       "    </tr>\n",
       "    <tr>\n",
       "      <th>1</th>\n",
       "      <td>7788c5b1-0515-4159-a47f-6d28ee28c392</td>\n",
       "      <td>11</td>\n",
       "      <td>1</td>\n",
       "      <td>Zynara Community</td>\n",
       "      <td>The Zynara community is centered around Chance...</td>\n",
       "      <td>[{'explanation': 'As Chancellor of Zynara, Sel...</td>\n",
       "      <td>6.0</td>\n",
       "      <td>The community has a moderate impact severity r...</td>\n",
       "      <td># Zynara Community\\n\\nThe Zynara community is ...</td>\n",
       "    </tr>\n",
       "  </tbody>\n",
       "</table>\n",
       "</div>"
      ],
      "text/plain": [
       "                                     id community  level  \\\n",
       "0  0e5f0f79-7f1f-4331-b1d4-e59380282ad2        10      1   \n",
       "1  7788c5b1-0515-4159-a47f-6d28ee28c392        11      1   \n",
       "\n",
       "                    title                                            summary  \\\n",
       "0  The Alliance Community  The Alliance community consists of member coun...   \n",
       "1        Zynara Community  The Zynara community is centered around Chance...   \n",
       "\n",
       "                                            findings  rank  \\\n",
       "0  [{'explanation': 'This is supported by data fr...   8.0   \n",
       "1  [{'explanation': 'As Chancellor of Zynara, Sel...   6.0   \n",
       "\n",
       "                                    rank_explanation  \\\n",
       "0  The severity rating is high due to the entity'...   \n",
       "1  The community has a moderate impact severity r...   \n",
       "\n",
       "                                        full_content  \n",
       "0  # The Alliance Community\\n\\nThe Alliance commu...  \n",
       "1  # Zynara Community\\n\\nThe Zynara community is ...  "
      ]
     },
     "execution_count": 19,
     "metadata": {},
     "output_type": "execute_result"
    }
   ],
   "source": [
    "community_report_df = pd.read_parquet(\n",
    "    f\"{GRAPHRAG_FOLDER}/create_final_community_reports.parquet\",\n",
    "    columns=[\n",
    "        \"id\",\n",
    "        \"community\",\n",
    "        \"level\",\n",
    "        \"title\",\n",
    "        \"summary\",\n",
    "        \"findings\",\n",
    "        \"rank\",\n",
    "        \"rank_explanation\",\n",
    "        \"full_content\",\n",
    "    ],\n",
    ")\n",
    "community_report_df.head(2)"
   ]
  },
  {
   "cell_type": "code",
   "execution_count": 20,
   "id": "5c6ed591-f98c-4403-9fde-8d4cb4c01cca",
   "metadata": {},
   "outputs": [
    {
     "name": "stdout",
     "output_type": "stream",
     "text": [
      "{'_contains_updates': True, 'labels_added': 99, 'relationships_created': 99, 'nodes_created': 99, 'properties_set': 381}\n",
      "14 rows in 6.831121921539307 s.\n"
     ]
    },
    {
     "data": {
      "text/plain": [
       "14"
      ]
     },
     "execution_count": 20,
     "metadata": {},
     "output_type": "execute_result"
    }
   ],
   "source": [
    "# Import communities\n",
    "community_statement = \"\"\"\n",
    "MERGE (c:__Community__ {community:value.community})\n",
    "SET c += value {.level, .title, .rank, .rank_explanation, .full_content, .summary}\n",
    "WITH c, value\n",
    "UNWIND range(0, size(value.findings)-1) AS finding_idx\n",
    "WITH c, value, finding_idx, value.findings[finding_idx] as finding\n",
    "MERGE (c)-[:HAS_FINDING]->(f:Finding {id:finding_idx})\n",
    "SET f += finding\n",
    "\"\"\"\n",
    "batched_import(community_statement, community_report_df)"
   ]
  },
  {
   "cell_type": "markdown",
   "id": "50a1a24a",
   "metadata": {},
   "source": [
    "### Importing Covariates\n",
    "\n",
    "Covariates are for instance claims on entities, we connect them to the chunks where they originate from."
   ]
  },
  {
   "cell_type": "code",
   "execution_count": 21,
   "id": "523bed92-d12c-4fc4-aa44-6c62321b36bc",
   "metadata": {},
   "outputs": [
    {
     "ename": "FileNotFoundError",
     "evalue": "[Errno 2] No such file or directory: '/Users/luwi/Documents/Code/microsoft_graphrag_local/ragdirs/48c81e73-c15e-40c7-980a-09bc4846769f/output/create_final_covariates.parquet'",
     "output_type": "error",
     "traceback": [
      "\u001b[0;31m---------------------------------------------------------------------------\u001b[0m",
      "\u001b[0;31mFileNotFoundError\u001b[0m                         Traceback (most recent call last)",
      "Cell \u001b[0;32mIn[21], line 1\u001b[0m\n\u001b[0;32m----> 1\u001b[0m cov_df \u001b[38;5;241m=\u001b[39m (\u001b[43mpd\u001b[49m\u001b[38;5;241;43m.\u001b[39;49m\u001b[43mread_parquet\u001b[49m\u001b[43m(\u001b[49m\u001b[38;5;124;43mf\u001b[39;49m\u001b[38;5;124;43m\"\u001b[39;49m\u001b[38;5;132;43;01m{\u001b[39;49;00m\u001b[43mGRAPHRAG_FOLDER\u001b[49m\u001b[38;5;132;43;01m}\u001b[39;49;00m\u001b[38;5;124;43m/create_final_covariates.parquet\u001b[39;49m\u001b[38;5;124;43m\"\u001b[39;49m\u001b[43m)\u001b[49m,)\n\u001b[1;32m      2\u001b[0m \u001b[38;5;66;03m#                         columns=[\"id\",\"text_unit_id\"])\u001b[39;00m\n\u001b[1;32m      3\u001b[0m cov_df\u001b[38;5;241m.\u001b[39mhead(\u001b[38;5;241m2\u001b[39m)\n",
      "File \u001b[0;32m~/Documents/Code/microsoft_graphrag_local/custom_graphrag_venv/lib/python3.11/site-packages/pandas/io/parquet.py:667\u001b[0m, in \u001b[0;36mread_parquet\u001b[0;34m(path, engine, columns, storage_options, use_nullable_dtypes, dtype_backend, filesystem, filters, **kwargs)\u001b[0m\n\u001b[1;32m    664\u001b[0m     use_nullable_dtypes \u001b[38;5;241m=\u001b[39m \u001b[38;5;28;01mFalse\u001b[39;00m\n\u001b[1;32m    665\u001b[0m check_dtype_backend(dtype_backend)\n\u001b[0;32m--> 667\u001b[0m \u001b[38;5;28;01mreturn\u001b[39;00m \u001b[43mimpl\u001b[49m\u001b[38;5;241;43m.\u001b[39;49m\u001b[43mread\u001b[49m\u001b[43m(\u001b[49m\n\u001b[1;32m    668\u001b[0m \u001b[43m    \u001b[49m\u001b[43mpath\u001b[49m\u001b[43m,\u001b[49m\n\u001b[1;32m    669\u001b[0m \u001b[43m    \u001b[49m\u001b[43mcolumns\u001b[49m\u001b[38;5;241;43m=\u001b[39;49m\u001b[43mcolumns\u001b[49m\u001b[43m,\u001b[49m\n\u001b[1;32m    670\u001b[0m \u001b[43m    \u001b[49m\u001b[43mfilters\u001b[49m\u001b[38;5;241;43m=\u001b[39;49m\u001b[43mfilters\u001b[49m\u001b[43m,\u001b[49m\n\u001b[1;32m    671\u001b[0m \u001b[43m    \u001b[49m\u001b[43mstorage_options\u001b[49m\u001b[38;5;241;43m=\u001b[39;49m\u001b[43mstorage_options\u001b[49m\u001b[43m,\u001b[49m\n\u001b[1;32m    672\u001b[0m \u001b[43m    \u001b[49m\u001b[43muse_nullable_dtypes\u001b[49m\u001b[38;5;241;43m=\u001b[39;49m\u001b[43muse_nullable_dtypes\u001b[49m\u001b[43m,\u001b[49m\n\u001b[1;32m    673\u001b[0m \u001b[43m    \u001b[49m\u001b[43mdtype_backend\u001b[49m\u001b[38;5;241;43m=\u001b[39;49m\u001b[43mdtype_backend\u001b[49m\u001b[43m,\u001b[49m\n\u001b[1;32m    674\u001b[0m \u001b[43m    \u001b[49m\u001b[43mfilesystem\u001b[49m\u001b[38;5;241;43m=\u001b[39;49m\u001b[43mfilesystem\u001b[49m\u001b[43m,\u001b[49m\n\u001b[1;32m    675\u001b[0m \u001b[43m    \u001b[49m\u001b[38;5;241;43m*\u001b[39;49m\u001b[38;5;241;43m*\u001b[39;49m\u001b[43mkwargs\u001b[49m\u001b[43m,\u001b[49m\n\u001b[1;32m    676\u001b[0m \u001b[43m\u001b[49m\u001b[43m)\u001b[49m\n",
      "File \u001b[0;32m~/Documents/Code/microsoft_graphrag_local/custom_graphrag_venv/lib/python3.11/site-packages/pandas/io/parquet.py:267\u001b[0m, in \u001b[0;36mPyArrowImpl.read\u001b[0;34m(self, path, columns, filters, use_nullable_dtypes, dtype_backend, storage_options, filesystem, **kwargs)\u001b[0m\n\u001b[1;32m    264\u001b[0m \u001b[38;5;28;01mif\u001b[39;00m manager \u001b[38;5;241m==\u001b[39m \u001b[38;5;124m\"\u001b[39m\u001b[38;5;124marray\u001b[39m\u001b[38;5;124m\"\u001b[39m:\n\u001b[1;32m    265\u001b[0m     to_pandas_kwargs[\u001b[38;5;124m\"\u001b[39m\u001b[38;5;124msplit_blocks\u001b[39m\u001b[38;5;124m\"\u001b[39m] \u001b[38;5;241m=\u001b[39m \u001b[38;5;28;01mTrue\u001b[39;00m  \u001b[38;5;66;03m# type: ignore[assignment]\u001b[39;00m\n\u001b[0;32m--> 267\u001b[0m path_or_handle, handles, filesystem \u001b[38;5;241m=\u001b[39m \u001b[43m_get_path_or_handle\u001b[49m\u001b[43m(\u001b[49m\n\u001b[1;32m    268\u001b[0m \u001b[43m    \u001b[49m\u001b[43mpath\u001b[49m\u001b[43m,\u001b[49m\n\u001b[1;32m    269\u001b[0m \u001b[43m    \u001b[49m\u001b[43mfilesystem\u001b[49m\u001b[43m,\u001b[49m\n\u001b[1;32m    270\u001b[0m \u001b[43m    \u001b[49m\u001b[43mstorage_options\u001b[49m\u001b[38;5;241;43m=\u001b[39;49m\u001b[43mstorage_options\u001b[49m\u001b[43m,\u001b[49m\n\u001b[1;32m    271\u001b[0m \u001b[43m    \u001b[49m\u001b[43mmode\u001b[49m\u001b[38;5;241;43m=\u001b[39;49m\u001b[38;5;124;43m\"\u001b[39;49m\u001b[38;5;124;43mrb\u001b[39;49m\u001b[38;5;124;43m\"\u001b[39;49m\u001b[43m,\u001b[49m\n\u001b[1;32m    272\u001b[0m \u001b[43m\u001b[49m\u001b[43m)\u001b[49m\n\u001b[1;32m    273\u001b[0m \u001b[38;5;28;01mtry\u001b[39;00m:\n\u001b[1;32m    274\u001b[0m     pa_table \u001b[38;5;241m=\u001b[39m \u001b[38;5;28mself\u001b[39m\u001b[38;5;241m.\u001b[39mapi\u001b[38;5;241m.\u001b[39mparquet\u001b[38;5;241m.\u001b[39mread_table(\n\u001b[1;32m    275\u001b[0m         path_or_handle,\n\u001b[1;32m    276\u001b[0m         columns\u001b[38;5;241m=\u001b[39mcolumns,\n\u001b[0;32m   (...)\u001b[0m\n\u001b[1;32m    279\u001b[0m         \u001b[38;5;241m*\u001b[39m\u001b[38;5;241m*\u001b[39mkwargs,\n\u001b[1;32m    280\u001b[0m     )\n",
      "File \u001b[0;32m~/Documents/Code/microsoft_graphrag_local/custom_graphrag_venv/lib/python3.11/site-packages/pandas/io/parquet.py:140\u001b[0m, in \u001b[0;36m_get_path_or_handle\u001b[0;34m(path, fs, storage_options, mode, is_dir)\u001b[0m\n\u001b[1;32m    130\u001b[0m handles \u001b[38;5;241m=\u001b[39m \u001b[38;5;28;01mNone\u001b[39;00m\n\u001b[1;32m    131\u001b[0m \u001b[38;5;28;01mif\u001b[39;00m (\n\u001b[1;32m    132\u001b[0m     \u001b[38;5;129;01mnot\u001b[39;00m fs\n\u001b[1;32m    133\u001b[0m     \u001b[38;5;129;01mand\u001b[39;00m \u001b[38;5;129;01mnot\u001b[39;00m is_dir\n\u001b[0;32m   (...)\u001b[0m\n\u001b[1;32m    138\u001b[0m     \u001b[38;5;66;03m# fsspec resources can also point to directories\u001b[39;00m\n\u001b[1;32m    139\u001b[0m     \u001b[38;5;66;03m# this branch is used for example when reading from non-fsspec URLs\u001b[39;00m\n\u001b[0;32m--> 140\u001b[0m     handles \u001b[38;5;241m=\u001b[39m \u001b[43mget_handle\u001b[49m\u001b[43m(\u001b[49m\n\u001b[1;32m    141\u001b[0m \u001b[43m        \u001b[49m\u001b[43mpath_or_handle\u001b[49m\u001b[43m,\u001b[49m\u001b[43m \u001b[49m\u001b[43mmode\u001b[49m\u001b[43m,\u001b[49m\u001b[43m \u001b[49m\u001b[43mis_text\u001b[49m\u001b[38;5;241;43m=\u001b[39;49m\u001b[38;5;28;43;01mFalse\u001b[39;49;00m\u001b[43m,\u001b[49m\u001b[43m \u001b[49m\u001b[43mstorage_options\u001b[49m\u001b[38;5;241;43m=\u001b[39;49m\u001b[43mstorage_options\u001b[49m\n\u001b[1;32m    142\u001b[0m \u001b[43m    \u001b[49m\u001b[43m)\u001b[49m\n\u001b[1;32m    143\u001b[0m     fs \u001b[38;5;241m=\u001b[39m \u001b[38;5;28;01mNone\u001b[39;00m\n\u001b[1;32m    144\u001b[0m     path_or_handle \u001b[38;5;241m=\u001b[39m handles\u001b[38;5;241m.\u001b[39mhandle\n",
      "File \u001b[0;32m~/Documents/Code/microsoft_graphrag_local/custom_graphrag_venv/lib/python3.11/site-packages/pandas/io/common.py:882\u001b[0m, in \u001b[0;36mget_handle\u001b[0;34m(path_or_buf, mode, encoding, compression, memory_map, is_text, errors, storage_options)\u001b[0m\n\u001b[1;32m    873\u001b[0m         handle \u001b[38;5;241m=\u001b[39m \u001b[38;5;28mopen\u001b[39m(\n\u001b[1;32m    874\u001b[0m             handle,\n\u001b[1;32m    875\u001b[0m             ioargs\u001b[38;5;241m.\u001b[39mmode,\n\u001b[0;32m   (...)\u001b[0m\n\u001b[1;32m    878\u001b[0m             newline\u001b[38;5;241m=\u001b[39m\u001b[38;5;124m\"\u001b[39m\u001b[38;5;124m\"\u001b[39m,\n\u001b[1;32m    879\u001b[0m         )\n\u001b[1;32m    880\u001b[0m     \u001b[38;5;28;01melse\u001b[39;00m:\n\u001b[1;32m    881\u001b[0m         \u001b[38;5;66;03m# Binary mode\u001b[39;00m\n\u001b[0;32m--> 882\u001b[0m         handle \u001b[38;5;241m=\u001b[39m \u001b[38;5;28mopen\u001b[39m(handle, ioargs\u001b[38;5;241m.\u001b[39mmode)\n\u001b[1;32m    883\u001b[0m     handles\u001b[38;5;241m.\u001b[39mappend(handle)\n\u001b[1;32m    885\u001b[0m \u001b[38;5;66;03m# Convert BytesIO or file objects passed with an encoding\u001b[39;00m\n",
      "\u001b[0;31mFileNotFoundError\u001b[0m: [Errno 2] No such file or directory: '/Users/luwi/Documents/Code/microsoft_graphrag_local/ragdirs/48c81e73-c15e-40c7-980a-09bc4846769f/output/create_final_covariates.parquet'"
     ]
    }
   ],
   "source": [
    "cov_df = (pd.read_parquet(f\"{GRAPHRAG_FOLDER}/create_final_covariates.parquet\"),)\n",
    "#                         columns=[\"id\",\"text_unit_id\"])\n",
    "cov_df.head(2)\n",
    "# Subject id do not match entity ids"
   ]
  },
  {
   "cell_type": "code",
   "execution_count": null,
   "id": "3e064234-5fce-448e-8bb4-ab2f35699049",
   "metadata": {},
   "outputs": [
    {
     "name": "stdout",
     "output_type": "stream",
     "text": [
      "{'_contains_updates': True, 'labels_added': 89, 'relationships_created': 89, 'nodes_created': 89, 'properties_set': 1061}\n",
      "89 rows in 0.13370895385742188 s.\n"
     ]
    },
    {
     "data": {
      "text/plain": [
       "89"
      ]
     },
     "execution_count": 16,
     "metadata": {},
     "output_type": "execute_result"
    }
   ],
   "source": [
    "# Import covariates\n",
    "cov_statement = \"\"\"\n",
    "MERGE (c:__Covariate__ {id:value.id})\n",
    "SET c += apoc.map.clean(value, [\"text_unit_id\", \"document_ids\", \"n_tokens\"], [NULL, \"\"])\n",
    "WITH c, value\n",
    "MATCH (ch:__Chunk__ {id: value.text_unit_id})\n",
    "MERGE (ch)-[:HAS_COVARIATE]->(c)\n",
    "\"\"\"\n",
    "batched_import(cov_statement, cov_df)"
   ]
  },
  {
   "cell_type": "markdown",
   "id": "00340bae",
   "metadata": {},
   "source": [
    "### Visualize your data\n",
    "\n",
    "You can now [Open] Neo4j on Aura, you need to log in with either SSO or your credentials.\n",
    "\n",
    "Or open https://workspace-preview.neo4j.io and connect to your local instance, remember the URI is `neo4j://localhost` and `neo4j` as username and `password` as password.\n",
    "\n",
    "In \"Explore\" you can explore by using visual graph patterns and then explore and expand further.\n",
    "\n",
    "In \"Query\", you can open the left sidebar and explore by clicking on the nodes and relationships.\n",
    "You can also use the co-pilot to generate Cypher queries for your, here are some examples.\n",
    "\n",
    "#### Show a few `__Entity__` nodes and their relationships (Entity Graph)\n",
    "\n",
    "```cypher\n",
    "MATCH path = (:__Entity__)-[:RELATED]->(:__Entity__)\n",
    "RETURN path LIMIT 200\n",
    "```\n",
    "\n",
    "#### Show the Chunks and the Document (Lexical Graph)\n",
    "\n",
    "```cypher\n",
    "MATCH (d:__Document__) WITH d LIMIT 1\n",
    "MATCH path = (d)<-[:PART_OF]-(c:__Chunk__)\n",
    "RETURN path LIMIT 100\n",
    "```\n",
    "\n",
    "####  Show a Community and it's Entities\n",
    "\n",
    "```cypher\n",
    "MATCH (c:__Community__) WITH c LIMIT 1\n",
    "MATCH path = (c)<-[:IN_COMMUNITY]-()-[:RELATED]-(:__Entity__)\n",
    "RETURN path LIMIT 100\n",
    "```\n",
    "\n",
    "#### Show everything\n",
    "\n",
    "```cypher\n",
    "MATCH (d:__Document__) WITH d LIMIT 1\n",
    "MATCH path = (d)<-[:PART_OF]-(:__Chunk__)-[:HAS_ENTIY]->()-[:RELATED]-()-[:IN_COMMUNITY]->()\n",
    "RETURN path LIMIT 250\n",
    "```\n",
    "\n",
    "We showed the visualization of this last query at the beginning."
   ]
  },
  {
   "cell_type": "markdown",
   "id": "a0aa8529",
   "metadata": {},
   "source": [
    "If you have questions, feel free to reach out in the GraphRAG discord server: \n",
    "https://discord.gg/graphrag"
   ]
  }
 ],
 "metadata": {
  "kernelspec": {
   "display_name": "Python 3 (ipykernel)",
   "language": "python",
   "name": "python3"
  },
  "language_info": {
   "codemirror_mode": {
    "name": "ipython",
    "version": 3
   },
   "file_extension": ".py",
   "mimetype": "text/x-python",
   "name": "python",
   "nbconvert_exporter": "python",
   "pygments_lexer": "ipython3",
   "version": "3.11.9"
  }
 },
 "nbformat": 4,
 "nbformat_minor": 5
}
